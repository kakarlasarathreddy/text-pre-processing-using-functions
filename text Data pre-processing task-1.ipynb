{
 "cells": [
  {
   "cell_type": "code",
   "execution_count": 1,
   "id": "156b2ae7",
   "metadata": {},
   "outputs": [],
   "source": [
    "import numpy as np"
   ]
  },
  {
   "cell_type": "code",
   "execution_count": 2,
   "id": "bcb80ba4",
   "metadata": {},
   "outputs": [],
   "source": [
    "import pandas as pd"
   ]
  },
  {
   "cell_type": "code",
   "execution_count": 3,
   "id": "7033d403",
   "metadata": {},
   "outputs": [],
   "source": [
    "import regex as re"
   ]
  },
  {
   "cell_type": "code",
   "execution_count": 4,
   "id": "8fe981af",
   "metadata": {},
   "outputs": [],
   "source": [
    "import nltk"
   ]
  },
  {
   "cell_type": "code",
   "execution_count": 10,
   "id": "97aaf34b",
   "metadata": {},
   "outputs": [],
   "source": [
    "from nltk.corpus import stopwords"
   ]
  },
  {
   "cell_type": "code",
   "execution_count": 12,
   "id": "a1241299",
   "metadata": {},
   "outputs": [],
   "source": [
    "from nltk.stem import SnowballStemmer"
   ]
  },
  {
   "cell_type": "code",
   "execution_count": 14,
   "id": "6344c627",
   "metadata": {},
   "outputs": [],
   "source": [
    "from  nltk.stem import WordNetLemmatizer"
   ]
  },
  {
   "cell_type": "code",
   "execution_count": 15,
   "id": "b089b4c8",
   "metadata": {},
   "outputs": [],
   "source": [
    "stemmer=SnowballStemmer('english')"
   ]
  },
  {
   "cell_type": "code",
   "execution_count": 16,
   "id": "585e0e3c",
   "metadata": {},
   "outputs": [],
   "source": [
    "lem=WordNetLemmatizer()"
   ]
  },
  {
   "cell_type": "code",
   "execution_count": 17,
   "id": "b7a75034",
   "metadata": {},
   "outputs": [],
   "source": [
    "doc1 = \"<br>Shep Schwab shopped at Scott’s Schnapps shop</br>; one shot of Scott’s Schnapps stopped Schwab’s watch.\"\n",
    "\n",
    "doc2 = \"Three Swedish switched witches watch three Swiss Swatch watches switches. Which Swedish switched witch watch which Swiss Swatch watch witch?\"\n",
    "\n",
    "doc3 = \"Betty bought butter but the butter was bitter, 1243432 455454 so Betty bought better butter to make the bitter butter better.\"\n",
    "\n",
    "doc4 = \"Amidst the mists and coldest frosts, with stoutest wrists and loudest boasts, he thrusts his fist against the posts and still insists he sees the ghosts.\"\n",
    "\n",
    "doc5 = \"The sixth sick sheik’s sixth sheep’s sick. https://atkinsbookshelf.wordpress.com/2013/04/07/difficult-tongue-twisters/\"\n"
   ]
  },
  {
   "cell_type": "code",
   "execution_count": 18,
   "id": "bb4a204a",
   "metadata": {},
   "outputs": [],
   "source": [
    "dfOriginal = pd.DataFrame({'docs':[doc1,doc2,doc3,doc4,doc5]})"
   ]
  },
  {
   "cell_type": "code",
   "execution_count": 19,
   "id": "adb3fab5",
   "metadata": {},
   "outputs": [
    {
     "data": {
      "text/html": [
       "<div>\n",
       "<style scoped>\n",
       "    .dataframe tbody tr th:only-of-type {\n",
       "        vertical-align: middle;\n",
       "    }\n",
       "\n",
       "    .dataframe tbody tr th {\n",
       "        vertical-align: top;\n",
       "    }\n",
       "\n",
       "    .dataframe thead th {\n",
       "        text-align: right;\n",
       "    }\n",
       "</style>\n",
       "<table border=\"1\" class=\"dataframe\">\n",
       "  <thead>\n",
       "    <tr style=\"text-align: right;\">\n",
       "      <th></th>\n",
       "      <th>docs</th>\n",
       "    </tr>\n",
       "  </thead>\n",
       "  <tbody>\n",
       "    <tr>\n",
       "      <th>0</th>\n",
       "      <td>&lt;br&gt;Shep Schwab shopped at Scott’s Schnapps sh...</td>\n",
       "    </tr>\n",
       "    <tr>\n",
       "      <th>1</th>\n",
       "      <td>Three Swedish switched witches watch three Swi...</td>\n",
       "    </tr>\n",
       "    <tr>\n",
       "      <th>2</th>\n",
       "      <td>Betty bought butter but the butter was bitter,...</td>\n",
       "    </tr>\n",
       "    <tr>\n",
       "      <th>3</th>\n",
       "      <td>Amidst the mists and coldest frosts, with stou...</td>\n",
       "    </tr>\n",
       "    <tr>\n",
       "      <th>4</th>\n",
       "      <td>The sixth sick sheik’s sixth sheep’s sick. htt...</td>\n",
       "    </tr>\n",
       "  </tbody>\n",
       "</table>\n",
       "</div>"
      ],
      "text/plain": [
       "                                                docs\n",
       "0  <br>Shep Schwab shopped at Scott’s Schnapps sh...\n",
       "1  Three Swedish switched witches watch three Swi...\n",
       "2  Betty bought butter but the butter was bitter,...\n",
       "3  Amidst the mists and coldest frosts, with stou...\n",
       "4  The sixth sick sheik’s sixth sheep’s sick. htt..."
      ]
     },
     "execution_count": 19,
     "metadata": {},
     "output_type": "execute_result"
    }
   ],
   "source": [
    "dfOriginal"
   ]
  },
  {
   "cell_type": "code",
   "execution_count": 20,
   "id": "ffe772c7",
   "metadata": {},
   "outputs": [],
   "source": [
    "df=dfOriginal.copy()"
   ]
  },
  {
   "cell_type": "code",
   "execution_count": 21,
   "id": "056c4a29",
   "metadata": {
    "scrolled": true
   },
   "outputs": [
    {
     "data": {
      "text/html": [
       "<div>\n",
       "<style scoped>\n",
       "    .dataframe tbody tr th:only-of-type {\n",
       "        vertical-align: middle;\n",
       "    }\n",
       "\n",
       "    .dataframe tbody tr th {\n",
       "        vertical-align: top;\n",
       "    }\n",
       "\n",
       "    .dataframe thead th {\n",
       "        text-align: right;\n",
       "    }\n",
       "</style>\n",
       "<table border=\"1\" class=\"dataframe\">\n",
       "  <thead>\n",
       "    <tr style=\"text-align: right;\">\n",
       "      <th></th>\n",
       "      <th>docs</th>\n",
       "    </tr>\n",
       "  </thead>\n",
       "  <tbody>\n",
       "    <tr>\n",
       "      <th>0</th>\n",
       "      <td>&lt;br&gt;Shep Schwab shopped at Scott’s Schnapps sh...</td>\n",
       "    </tr>\n",
       "    <tr>\n",
       "      <th>1</th>\n",
       "      <td>Three Swedish switched witches watch three Swi...</td>\n",
       "    </tr>\n",
       "    <tr>\n",
       "      <th>2</th>\n",
       "      <td>Betty bought butter but the butter was bitter,...</td>\n",
       "    </tr>\n",
       "    <tr>\n",
       "      <th>3</th>\n",
       "      <td>Amidst the mists and coldest frosts, with stou...</td>\n",
       "    </tr>\n",
       "    <tr>\n",
       "      <th>4</th>\n",
       "      <td>The sixth sick sheik’s sixth sheep’s sick. htt...</td>\n",
       "    </tr>\n",
       "  </tbody>\n",
       "</table>\n",
       "</div>"
      ],
      "text/plain": [
       "                                                docs\n",
       "0  <br>Shep Schwab shopped at Scott’s Schnapps sh...\n",
       "1  Three Swedish switched witches watch three Swi...\n",
       "2  Betty bought butter but the butter was bitter,...\n",
       "3  Amidst the mists and coldest frosts, with stou...\n",
       "4  The sixth sick sheik’s sixth sheep’s sick. htt..."
      ]
     },
     "execution_count": 21,
     "metadata": {},
     "output_type": "execute_result"
    }
   ],
   "source": [
    "df"
   ]
  },
  {
   "cell_type": "code",
   "execution_count": 24,
   "id": "825bf649",
   "metadata": {},
   "outputs": [],
   "source": [
    "def  preprocessing (y,stem=False):\n",
    "    lowercase=y.lower()\n",
    "    html_tags=re.sub(r'<,*?>','',lowercase)\n",
    "    urls = re.sub(r'https?://\\S+|www.S+',\"\",html_tags)\n",
    "    spl_char = re.sub(r'[^A-z ]','',urls)\n",
    "    new_line = re.sub(r'\\n',' ',spl_char)\n",
    "    tokens = new_line.split()\n",
    "\n",
    "    clean_tokens = [t for t in tokens if t not in stopwords.words('english')]\n",
    "\n",
    "    if stem:\n",
    "\n",
    "        doc_list = [stemmer.stem(i) for i in clean_tokens]\n",
    "    else:\n",
    "\n",
    "        doc_list = [lem.lemmatize(i) for i in clean_tokens]\n",
    "\n",
    "    return ' '.join(doc_list)\n"
   ]
  },
  {
   "cell_type": "code",
   "execution_count": 25,
   "id": "189c1a1e",
   "metadata": {},
   "outputs": [],
   "source": [
    "df['clean']=df['docs'].apply(preprocessing)"
   ]
  },
  {
   "cell_type": "code",
   "execution_count": 26,
   "id": "d1f57076",
   "metadata": {},
   "outputs": [
    {
     "data": {
      "text/html": [
       "<div>\n",
       "<style scoped>\n",
       "    .dataframe tbody tr th:only-of-type {\n",
       "        vertical-align: middle;\n",
       "    }\n",
       "\n",
       "    .dataframe tbody tr th {\n",
       "        vertical-align: top;\n",
       "    }\n",
       "\n",
       "    .dataframe thead th {\n",
       "        text-align: right;\n",
       "    }\n",
       "</style>\n",
       "<table border=\"1\" class=\"dataframe\">\n",
       "  <thead>\n",
       "    <tr style=\"text-align: right;\">\n",
       "      <th></th>\n",
       "      <th>docs</th>\n",
       "      <th>clean</th>\n",
       "    </tr>\n",
       "  </thead>\n",
       "  <tbody>\n",
       "    <tr>\n",
       "      <th>0</th>\n",
       "      <td>&lt;br&gt;Shep Schwab shopped at Scott’s Schnapps sh...</td>\n",
       "      <td>brshep schwab shopped scott schnapps shopbr on...</td>\n",
       "    </tr>\n",
       "    <tr>\n",
       "      <th>1</th>\n",
       "      <td>Three Swedish switched witches watch three Swi...</td>\n",
       "      <td>three swedish switched witch watch three swiss...</td>\n",
       "    </tr>\n",
       "    <tr>\n",
       "      <th>2</th>\n",
       "      <td>Betty bought butter but the butter was bitter,...</td>\n",
       "      <td>betty bought butter butter bitter betty bought...</td>\n",
       "    </tr>\n",
       "    <tr>\n",
       "      <th>3</th>\n",
       "      <td>Amidst the mists and coldest frosts, with stou...</td>\n",
       "      <td>amidst mist coldest frost stoutest wrist loude...</td>\n",
       "    </tr>\n",
       "    <tr>\n",
       "      <th>4</th>\n",
       "      <td>The sixth sick sheik’s sixth sheep’s sick. htt...</td>\n",
       "      <td>sixth sick sheik sixth sheep sick</td>\n",
       "    </tr>\n",
       "  </tbody>\n",
       "</table>\n",
       "</div>"
      ],
      "text/plain": [
       "                                                docs  \\\n",
       "0  <br>Shep Schwab shopped at Scott’s Schnapps sh...   \n",
       "1  Three Swedish switched witches watch three Swi...   \n",
       "2  Betty bought butter but the butter was bitter,...   \n",
       "3  Amidst the mists and coldest frosts, with stou...   \n",
       "4  The sixth sick sheik’s sixth sheep’s sick. htt...   \n",
       "\n",
       "                                               clean  \n",
       "0  brshep schwab shopped scott schnapps shopbr on...  \n",
       "1  three swedish switched witch watch three swiss...  \n",
       "2  betty bought butter butter bitter betty bought...  \n",
       "3  amidst mist coldest frost stoutest wrist loude...  \n",
       "4                  sixth sick sheik sixth sheep sick  "
      ]
     },
     "execution_count": 26,
     "metadata": {},
     "output_type": "execute_result"
    }
   ],
   "source": [
    "df"
   ]
  },
  {
   "cell_type": "code",
   "execution_count": 27,
   "id": "453c355c",
   "metadata": {},
   "outputs": [],
   "source": [
    "df['clean']=df['docs'].apply(preprocessing,stem=True)"
   ]
  },
  {
   "cell_type": "code",
   "execution_count": 28,
   "id": "605dd38a",
   "metadata": {},
   "outputs": [
    {
     "data": {
      "text/html": [
       "<div>\n",
       "<style scoped>\n",
       "    .dataframe tbody tr th:only-of-type {\n",
       "        vertical-align: middle;\n",
       "    }\n",
       "\n",
       "    .dataframe tbody tr th {\n",
       "        vertical-align: top;\n",
       "    }\n",
       "\n",
       "    .dataframe thead th {\n",
       "        text-align: right;\n",
       "    }\n",
       "</style>\n",
       "<table border=\"1\" class=\"dataframe\">\n",
       "  <thead>\n",
       "    <tr style=\"text-align: right;\">\n",
       "      <th></th>\n",
       "      <th>docs</th>\n",
       "      <th>clean</th>\n",
       "    </tr>\n",
       "  </thead>\n",
       "  <tbody>\n",
       "    <tr>\n",
       "      <th>0</th>\n",
       "      <td>&lt;br&gt;Shep Schwab shopped at Scott’s Schnapps sh...</td>\n",
       "      <td>brshep schwab shop scott schnapp shopbr one sh...</td>\n",
       "    </tr>\n",
       "    <tr>\n",
       "      <th>1</th>\n",
       "      <td>Three Swedish switched witches watch three Swi...</td>\n",
       "      <td>three swedish switch witch watch three swiss s...</td>\n",
       "    </tr>\n",
       "    <tr>\n",
       "      <th>2</th>\n",
       "      <td>Betty bought butter but the butter was bitter,...</td>\n",
       "      <td>betti bought butter butter bitter betti bought...</td>\n",
       "    </tr>\n",
       "    <tr>\n",
       "      <th>3</th>\n",
       "      <td>Amidst the mists and coldest frosts, with stou...</td>\n",
       "      <td>amidst mist coldest frost stoutest wrist loude...</td>\n",
       "    </tr>\n",
       "    <tr>\n",
       "      <th>4</th>\n",
       "      <td>The sixth sick sheik’s sixth sheep’s sick. htt...</td>\n",
       "      <td>sixth sick sheik sixth sheep sick</td>\n",
       "    </tr>\n",
       "  </tbody>\n",
       "</table>\n",
       "</div>"
      ],
      "text/plain": [
       "                                                docs  \\\n",
       "0  <br>Shep Schwab shopped at Scott’s Schnapps sh...   \n",
       "1  Three Swedish switched witches watch three Swi...   \n",
       "2  Betty bought butter but the butter was bitter,...   \n",
       "3  Amidst the mists and coldest frosts, with stou...   \n",
       "4  The sixth sick sheik’s sixth sheep’s sick. htt...   \n",
       "\n",
       "                                               clean  \n",
       "0  brshep schwab shop scott schnapp shopbr one sh...  \n",
       "1  three swedish switch witch watch three swiss s...  \n",
       "2  betti bought butter butter bitter betti bought...  \n",
       "3  amidst mist coldest frost stoutest wrist loude...  \n",
       "4                  sixth sick sheik sixth sheep sick  "
      ]
     },
     "execution_count": 28,
     "metadata": {},
     "output_type": "execute_result"
    }
   ],
   "source": [
    "df"
   ]
  },
  {
   "cell_type": "code",
   "execution_count": null,
   "id": "bbc915eb",
   "metadata": {},
   "outputs": [],
   "source": []
  }
 ],
 "metadata": {
  "kernelspec": {
   "display_name": "Python 3 (ipykernel)",
   "language": "python",
   "name": "python3"
  },
  "language_info": {
   "codemirror_mode": {
    "name": "ipython",
    "version": 3
   },
   "file_extension": ".py",
   "mimetype": "text/x-python",
   "name": "python",
   "nbconvert_exporter": "python",
   "pygments_lexer": "ipython3",
   "version": "3.10.9"
  }
 },
 "nbformat": 4,
 "nbformat_minor": 5
}
